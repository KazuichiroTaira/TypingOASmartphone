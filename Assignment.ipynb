{
 "cells": [
  {
   "cell_type": "markdown",
   "metadata": {},
   "source": [
    "# Typing on a Smartphone"
   ]
  },
  {
   "cell_type": "markdown",
   "metadata": {},
   "source": [
    "    This exercise will not go through all the ways these data could be analysed. We’ll return to this dataset in later exercises.Please answer the following questions. You don’t need to provide code used to get the results, but please answer using whole sentences.\n",
    "\n",
    "1. Gettoknowthedata.(1p)"
   ]
  },
  {
   "cell_type": "code",
   "execution_count": 3,
   "metadata": {},
   "outputs": [
    {
     "name": "stdout",
     "output_type": "stream",
     "text": [
      "       id age.group  sentence  n.letters  trialtime  error.percent  backspaces\n",
      "0     101     young         1         19      13696       0.052632           9\n",
      "1     101     young         2         18      11080       0.000000           4\n",
      "2     101     young         3         15       7774       0.000000           1\n",
      "3     101     young         4         19      11943       0.000000           5\n",
      "4     101     young         5         13       5169       0.000000           0\n",
      "...   ...       ...       ...        ...        ...            ...         ...\n",
      "1003  211       old        45         20      25260       0.150000           4\n",
      "1004  211       old        46         21      55469       0.000000          17\n",
      "1005  211       old        48         21      30216       0.000000           4\n",
      "1006  211       old        49         18      32680       0.000000           7\n",
      "1007  211       old        50         18      24873       0.000000           0\n",
      "\n",
      "[1008 rows x 7 columns]\n"
     ]
    }
   ],
   "source": [
    "import matplotlib.pyplot as plt\n",
    "import pandas as pd\n",
    "import numpy as np\n",
    "import os\n",
    "\n",
    "DATA_FOLDER = 'data'\n",
    "data_file = os.path.join(DATA_FOLDER, 'smartphone-typing.csv')\n",
    "df = pd.read_csv(data_file)\n",
    "\n",
    "print(df)"
   ]
  },
  {
   "cell_type": "markdown",
   "metadata": {},
   "source": [
    "a) Identify the between and within subjects variables(or factors,if a factor is spread among multiple variables).\n",
    "\n",
    "    The between is age.group; Young or Old adults\n",
    "    \n",
    "    The within subjects variables are; Sentence, N.Letters, Trialtime, Error.percentage, Backapace.\n",
    "    \n",
    "    Make comparison with the between and within subjects variables..."
   ]
  },
  {
   "cell_type": "code",
   "execution_count": null,
   "metadata": {},
   "outputs": [],
   "source": []
  },
  {
   "cell_type": "markdown",
   "metadata": {},
   "source": [
    "b) How many participants are there? How many old and young adults?"
   ]
  },
  {
   "cell_type": "code",
   "execution_count": 2,
   "metadata": {},
   "outputs": [
    {
     "name": "stdout",
     "output_type": "stream",
     "text": [
      "       id age.group  sentence  n.letters  trialtime  error.percent  backspaces\n",
      "0     101     young         1         19      13696       0.052632           9\n",
      "1     101     young         2         18      11080       0.000000           4\n",
      "2     101     young         3         15       7774       0.000000           1\n",
      "3     101     young         4         19      11943       0.000000           5\n",
      "4     101     young         5         13       5169       0.000000           0\n",
      "...   ...       ...       ...        ...        ...            ...         ...\n",
      "1003  211       old        45         20      25260       0.150000           4\n",
      "1004  211       old        46         21      55469       0.000000          17\n",
      "1005  211       old        48         21      30216       0.000000           4\n",
      "1006  211       old        49         18      32680       0.000000           7\n",
      "1007  211       old        50         18      24873       0.000000           0\n",
      "\n",
      "[1008 rows x 7 columns]\n"
     ]
    }
   ],
   "source": [
    "import matplotlib.pyplot as plt\n",
    "import pandas as pd\n",
    "import numpy as np\n",
    "import os\n",
    "\n",
    "DATA_FOLDER = 'data'\n",
    "data_file = os.path.join(DATA_FOLDER, 'smartphone-typing.csv')\n",
    "df = pd.read_csv(data_file)\n",
    "\n",
    "print(df)"
   ]
  },
  {
   "cell_type": "code",
   "execution_count": null,
   "metadata": {},
   "outputs": [],
   "source": [
    "import matplotlib.pyplot as plt\n",
    "import pandas as pd\n",
    "import numpy as np\n",
    "import os\n",
    "\n",
    "DATA_FOLDER = 'data'\n",
    "data_file = os.path.join(DATA_FOLDER, 'smartphone-typing.csv')\n",
    "df = pd.read_csv(data_file)\n",
    "\n",
    "#print(df)\n",
    "\n",
    "age_group = ['young', 'old']\n",
    "\n",
    "n_age_group = len(age_group)\n",
    "\n",
    "\n",
    "is_young = df['age.group'] == 'young'\n",
    "is_old = df['age.group'] == 'old'\n",
    "\n",
    "sentence_young = df[is_young]['sentence']\n",
    "\n",
    "#sentence_old = df[is_old]['sentence']\n",
    "print('max value', max(sentence_young))\n",
    "\n",
    "fig, ax = plt.subplots()\n",
    "ax.hist(sentence_young, bins=np.arange(0, 51,10))\n",
    "ax.set_xlabel('sentence')\n",
    "ax.set_ylabel('# observations')\n",
    "plt.show()\n",
    "\n"
   ]
  },
  {
   "cell_type": "code",
   "execution_count": null,
   "metadata": {},
   "outputs": [],
   "source": []
  },
  {
   "cell_type": "code",
   "execution_count": null,
   "metadata": {},
   "outputs": [],
   "source": []
  },
  {
   "cell_type": "code",
   "execution_count": null,
   "metadata": {},
   "outputs": [],
   "source": []
  },
  {
   "cell_type": "code",
   "execution_count": null,
   "metadata": {},
   "outputs": [],
   "source": []
  },
  {
   "cell_type": "code",
   "execution_count": null,
   "metadata": {},
   "outputs": [],
   "source": []
  },
  {
   "cell_type": "code",
   "execution_count": null,
   "metadata": {},
   "outputs": [],
   "source": []
  },
  {
   "cell_type": "code",
   "execution_count": null,
   "metadata": {},
   "outputs": [],
   "source": []
  },
  {
   "cell_type": "code",
   "execution_count": null,
   "metadata": {},
   "outputs": [],
   "source": []
  },
  {
   "cell_type": "code",
   "execution_count": null,
   "metadata": {},
   "outputs": [],
   "source": []
  },
  {
   "cell_type": "code",
   "execution_count": null,
   "metadata": {},
   "outputs": [],
   "source": []
  },
  {
   "cell_type": "code",
   "execution_count": null,
   "metadata": {},
   "outputs": [],
   "source": []
  },
  {
   "cell_type": "code",
   "execution_count": null,
   "metadata": {},
   "outputs": [],
   "source": []
  },
  {
   "cell_type": "code",
   "execution_count": null,
   "metadata": {},
   "outputs": [],
   "source": []
  },
  {
   "cell_type": "code",
   "execution_count": null,
   "metadata": {},
   "outputs": [],
   "source": []
  },
  {
   "cell_type": "code",
   "execution_count": null,
   "metadata": {},
   "outputs": [],
   "source": []
  },
  {
   "cell_type": "code",
   "execution_count": null,
   "metadata": {},
   "outputs": [],
   "source": [
    "import matplotlib.pyplot as plt\n",
    "import pandas as pd\n",
    "import numpy as np\n",
    "import os\n",
    "\n",
    "DATA_FOLDER = 'data'\n",
    "data_file = os.path.join(DATA_FOLDER, 'smartphone-typing.csv')\n",
    "df = pd.read_csv(data_file)\n",
    "\n",
    "#print(df)\n",
    "\n",
    "age_group = ['young', 'old']\n",
    "\n",
    "n_age_group = len(age_group)\n",
    "\n",
    "\n",
    "is_young = df['age.group'] == 'young'\n",
    "is_old = df['age.group'] == 'old'\n",
    "\n",
    "# is_sentence_in_0_10 = [x in np.arange(0,10) for x in df['sentence']]\n",
    "# print(type(is_young))\n",
    "#print('n entries', len(df))\n",
    "#print(is_sentence_in_0_10)\n",
    "\n",
    "sentence_young = df[is_young]['sentence']\n",
    "#sentence_old = df[is_old]['sentence']\n",
    "print('max value', max(sentence_young))\n",
    "\n",
    "fig, ax = plt.subplots()\n",
    "ax.hist(sentence_young, bins=np.arange(0, 51,10))\n",
    "ax.set_xlabel('sentence')\n",
    "ax.set_ylabel('# observations')\n",
    "plt.show()\n",
    "\n",
    "\n",
    "#print(df[True, ])\n",
    "#print(df[])\n",
    "\n",
    " \n",
    "\n",
    "#print(df[df]['sentence'])\n",
    "\n",
    "\n",
    "\n",
    "\n",
    "\n",
    "\n",
    "\n",
    "'''\n",
    "        'sentence':[list(sentence.keys())]}\n",
    "\n",
    "#bin_edges = [0, 10, 20, 30, 40, 50, 60, 70, 80, 90, 100]\n",
    "\n",
    "_ = plt.hist(data_file[f'smartphone-typing.csv'], bins=bin_edges)\n",
    "            # Or (df_swing['smartphone-typing.csv'], bins=10)\n",
    "\n",
    "\n",
    "# To layout x for each segment of deta.\n",
    "\n",
    "_ = plt.xlabel('sentence_volume_range')\n",
    "\n",
    "# _ = plt.xlabel; number_of_letters_range, trial_time_range, error_percent_range, frequency_of_backspace_range\n",
    "\n",
    "#To discrive each segments of data in age group compariosn\n",
    "\n",
    "_ = plt.ylabel('young','old')\n",
    "'''\n",
    "\n",
    "\n",
    "\n"
   ]
  }
 ],
 "metadata": {
  "kernelspec": {
   "display_name": "Python 3",
   "language": "python",
   "name": "python3"
  },
  "language_info": {
   "codemirror_mode": {
    "name": "ipython",
    "version": 3
   },
   "file_extension": ".py",
   "mimetype": "text/x-python",
   "name": "python",
   "nbconvert_exporter": "python",
   "pygments_lexer": "ipython3",
   "version": "3.7.7"
  }
 },
 "nbformat": 4,
 "nbformat_minor": 4
}
